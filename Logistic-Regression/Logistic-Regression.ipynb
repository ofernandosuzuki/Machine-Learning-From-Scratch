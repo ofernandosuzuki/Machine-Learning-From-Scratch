{
 "cells": [
  {
   "cell_type": "code",
   "execution_count": 1,
   "metadata": {},
   "outputs": [],
   "source": [
    "import matplotlib.pyplot as plt\n",
    "from tqdm import tqdm\n",
    "import pandas as pd\n",
    "import numpy as np\n",
    "import os"
   ]
  },
  {
   "cell_type": "markdown",
   "metadata": {},
   "source": [
    "#### Auxiliary functions"
   ]
  },
  {
   "cell_type": "code",
   "execution_count": 2,
   "metadata": {},
   "outputs": [],
   "source": [
    "def read_file(path: str, file_name: str):\n",
    "  file = os.path.join(path, file_name)\n",
    "  data = pd.read_csv(file, low_memory=False)\n",
    "  return data\n",
    "\n",
    "def find_nan_values(dataset) -> list:\n",
    "  return dataset.columns[dataset.isnull().any()].tolist()\n",
    "\n",
    "def drop_columns(dataset, columns):\n",
    "  return dataset.drop(columns, axis=1)\n",
    "\n",
    "def clean(dataset, columns):\n",
    "  dataset_cleaned = drop_columns(dataset, columns)\n",
    "  nan_values = find_nan_values(dataset_cleaned)\n",
    "  for column in nan_values:\n",
    "    dataset_cleaned[column].fillna(dataset[column].median(), inplace=True)\n",
    "\n",
    "  Gender = pd.get_dummies(dataset['Sex'], drop_first=True)\n",
    "  dataset_cleaned['Gender'] = Gender \n",
    "  return dataset_cleaned"
   ]
  },
  {
   "cell_type": "markdown",
   "metadata": {},
   "source": [
    "### Logistic Regression"
   ]
  },
  {
   "cell_type": "code",
   "execution_count": 3,
   "metadata": {},
   "outputs": [],
   "source": [
    "class LogisticRegression:\n",
    "  def __init__(self, X, y, epochs, lerning_rate) -> None:\n",
    "    self.X, self.y, self.lr = X, y, lerning_rate\n",
    "    \n",
    "    self.m, self.n = self.X.shape\n",
    "    self.weight = np.zeros((self.n, 1))\n",
    "    self.bias = 0\n",
    "    self.epochs = epochs\n",
    "\n",
    "    self.total_cost = []\n",
    "\n",
    "  def linear_prediction(self, X):\n",
    "    return np.dot(X, self.weight) + self.bias\n",
    "  \n",
    "  def sigmoid(self, linear_predicit):\n",
    "    return 1/(1 + np.exp(-linear_predicit))\n",
    "  \n",
    "  def binary_cross_entropy(self, predict):\n",
    "    return -(1/self.m) * np.sum(self.y * np.log(predict) + (1-self.y) * np.log(1-predict))\n",
    "  \n",
    "  def gradient(self, predict):\n",
    "    error = predict - self.y\n",
    "\n",
    "    dw = (1/self.m) * np.dot(self.X.T, error)\n",
    "    db = (1/self.m) * np.sum(error)\n",
    "    return dw, db\n",
    "  \n",
    "  def train(self):\n",
    "    p_bar = tqdm(range(self.epochs))\n",
    "\n",
    "    for _ in p_bar:\n",
    "      linear_predict = self.linear_prediction(self.X)\n",
    "      sigmoid_predict = self.sigmoid(linear_predict)\n",
    "      dw, db = self.gradient(sigmoid_predict)\n",
    "      self.weight = self.weight - self.lr * dw\n",
    "      self.bias = self.bias - self.lr * db\n",
    "      \n",
    "      cost = self.binary_cross_entropy(sigmoid_predict)\n",
    "      self.total_cost.append(cost)"
   ]
  },
  {
   "cell_type": "markdown",
   "metadata": {},
   "source": [
    "#### Formulas\n",
    "$ Linear Prediction = \\sigma ( W^T*X + b ) $   \n",
    "\n",
    "$ Sigmoid Function \\sigma = \\frac{1}{(1 + e^{-x})}  $\n",
    "\n",
    "$ Binary Cross Entropy = - \\frac{1}{m} \\sum_{i=1}^m [ y*log(a) + (1 - y)*log(1 - a) ] $\n",
    "\n",
    "$ dj/dw = 1/m\\sum_{i=1}^m 2x_i(y_i - (wx_i + b))$\n",
    "\n",
    "$ dj/db = 1/m\\sum_{i=1}^m 2(y_i - (wx_i + b))$"
   ]
  },
  {
   "cell_type": "code",
   "execution_count": 4,
   "metadata": {},
   "outputs": [
    {
     "name": "stdout",
     "output_type": "stream",
     "text": [
      "PassengerId, Survived, Pclass, Name, Sex, Age, SibSp, Parch, Ticket, Fare, Cabin, Embarked\n"
     ]
    }
   ],
   "source": [
    "train = pd.read_csv('./data/train.csv', low_memory=False)\n",
    "test = pd.read_csv('./data/test.csv', low_memory=False)\n",
    "\n",
    "print(*train.columns, sep=', ')"
   ]
  },
  {
   "cell_type": "code",
   "execution_count": 5,
   "metadata": {},
   "outputs": [],
   "source": [
    "columns_to_remove = (\n",
    "    [\n",
    "        'PassengerId',\n",
    "        'Name',\n",
    "        'SibSp',\n",
    "        'Parch',\n",
    "        'Ticket',\n",
    "        'Fare',\n",
    "        'Cabin',\n",
    "        'Embarked'\n",
    "    ]\n",
    ")\n",
    "\n",
    "train = clean(train, columns_to_remove)\n",
    "test = clean(test, columns_to_remove)"
   ]
  },
  {
   "cell_type": "code",
   "execution_count": 6,
   "metadata": {},
   "outputs": [
    {
     "data": {
      "text/html": [
       "<div>\n",
       "<style scoped>\n",
       "    .dataframe tbody tr th:only-of-type {\n",
       "        vertical-align: middle;\n",
       "    }\n",
       "\n",
       "    .dataframe tbody tr th {\n",
       "        vertical-align: top;\n",
       "    }\n",
       "\n",
       "    .dataframe thead th {\n",
       "        text-align: right;\n",
       "    }\n",
       "</style>\n",
       "<table border=\"1\" class=\"dataframe\">\n",
       "  <thead>\n",
       "    <tr style=\"text-align: right;\">\n",
       "      <th></th>\n",
       "      <th>Survived</th>\n",
       "      <th>Pclass</th>\n",
       "      <th>Sex</th>\n",
       "      <th>Age</th>\n",
       "      <th>Gender</th>\n",
       "    </tr>\n",
       "  </thead>\n",
       "  <tbody>\n",
       "    <tr>\n",
       "      <th>0</th>\n",
       "      <td>0</td>\n",
       "      <td>3</td>\n",
       "      <td>male</td>\n",
       "      <td>22.0</td>\n",
       "      <td>1</td>\n",
       "    </tr>\n",
       "    <tr>\n",
       "      <th>1</th>\n",
       "      <td>1</td>\n",
       "      <td>1</td>\n",
       "      <td>female</td>\n",
       "      <td>38.0</td>\n",
       "      <td>0</td>\n",
       "    </tr>\n",
       "    <tr>\n",
       "      <th>2</th>\n",
       "      <td>1</td>\n",
       "      <td>3</td>\n",
       "      <td>female</td>\n",
       "      <td>26.0</td>\n",
       "      <td>0</td>\n",
       "    </tr>\n",
       "    <tr>\n",
       "      <th>3</th>\n",
       "      <td>1</td>\n",
       "      <td>1</td>\n",
       "      <td>female</td>\n",
       "      <td>35.0</td>\n",
       "      <td>0</td>\n",
       "    </tr>\n",
       "    <tr>\n",
       "      <th>4</th>\n",
       "      <td>0</td>\n",
       "      <td>3</td>\n",
       "      <td>male</td>\n",
       "      <td>35.0</td>\n",
       "      <td>1</td>\n",
       "    </tr>\n",
       "    <tr>\n",
       "      <th>...</th>\n",
       "      <td>...</td>\n",
       "      <td>...</td>\n",
       "      <td>...</td>\n",
       "      <td>...</td>\n",
       "      <td>...</td>\n",
       "    </tr>\n",
       "    <tr>\n",
       "      <th>886</th>\n",
       "      <td>0</td>\n",
       "      <td>2</td>\n",
       "      <td>male</td>\n",
       "      <td>27.0</td>\n",
       "      <td>1</td>\n",
       "    </tr>\n",
       "    <tr>\n",
       "      <th>887</th>\n",
       "      <td>1</td>\n",
       "      <td>1</td>\n",
       "      <td>female</td>\n",
       "      <td>19.0</td>\n",
       "      <td>0</td>\n",
       "    </tr>\n",
       "    <tr>\n",
       "      <th>888</th>\n",
       "      <td>0</td>\n",
       "      <td>3</td>\n",
       "      <td>female</td>\n",
       "      <td>28.0</td>\n",
       "      <td>0</td>\n",
       "    </tr>\n",
       "    <tr>\n",
       "      <th>889</th>\n",
       "      <td>1</td>\n",
       "      <td>1</td>\n",
       "      <td>male</td>\n",
       "      <td>26.0</td>\n",
       "      <td>1</td>\n",
       "    </tr>\n",
       "    <tr>\n",
       "      <th>890</th>\n",
       "      <td>0</td>\n",
       "      <td>3</td>\n",
       "      <td>male</td>\n",
       "      <td>32.0</td>\n",
       "      <td>1</td>\n",
       "    </tr>\n",
       "  </tbody>\n",
       "</table>\n",
       "<p>891 rows × 5 columns</p>\n",
       "</div>"
      ],
      "text/plain": [
       "     Survived  Pclass     Sex   Age  Gender\n",
       "0           0       3    male  22.0       1\n",
       "1           1       1  female  38.0       0\n",
       "2           1       3  female  26.0       0\n",
       "3           1       1  female  35.0       0\n",
       "4           0       3    male  35.0       1\n",
       "..        ...     ...     ...   ...     ...\n",
       "886         0       2    male  27.0       1\n",
       "887         1       1  female  19.0       0\n",
       "888         0       3  female  28.0       0\n",
       "889         1       1    male  26.0       1\n",
       "890         0       3    male  32.0       1\n",
       "\n",
       "[891 rows x 5 columns]"
      ]
     },
     "execution_count": 6,
     "metadata": {},
     "output_type": "execute_result"
    }
   ],
   "source": [
    "train"
   ]
  },
  {
   "cell_type": "code",
   "execution_count": 7,
   "metadata": {},
   "outputs": [
    {
     "name": "stdout",
     "output_type": "stream",
     "text": [
      "Survived, Pclass, Sex, Age, Gender\n"
     ]
    }
   ],
   "source": [
    "print(*train.columns, sep=', ')"
   ]
  },
  {
   "cell_type": "code",
   "execution_count": 8,
   "metadata": {},
   "outputs": [
    {
     "name": "stdout",
     "output_type": "stream",
     "text": [
      "Shape X_train:  (891, 3)\n",
      "Shape y_train:  (891, 1)\n"
     ]
    }
   ],
   "source": [
    "X_train = train[['Pclass', 'Gender', 'Age']]\n",
    "y_train = train[['Survived']]\n",
    "\n",
    "X_train = X_train.values\n",
    "y_train = y_train.values\n",
    "\n",
    "X_test = test[['Pclass', 'Gender', 'Age']]\n",
    "\n",
    "X_test = X_test.values\n",
    "\n",
    "\n",
    "print('Shape X_train: ', X_train.shape)\n",
    "print('Shape y_train: ', y_train.shape)"
   ]
  },
  {
   "cell_type": "code",
   "execution_count": 9,
   "metadata": {},
   "outputs": [
    {
     "name": "stderr",
     "output_type": "stream",
     "text": [
      "100%|██████████| 1000/1000 [00:00<00:00, 14728.54it/s]\n"
     ]
    }
   ],
   "source": [
    "model = LogisticRegression(X_train, y_train, 1000, 0.001)\n",
    "model.train()"
   ]
  },
  {
   "cell_type": "code",
   "execution_count": 10,
   "metadata": {},
   "outputs": [
    {
     "data": {
      "image/png": "[encoded data removed]",
      "text/plain": [
       "<Figure size 640x480 with 1 Axes>"
      ]
     },
     "metadata": {},
     "output_type": "display_data"
    }
   ],
   "source": [
    "plt.plot(np.arange(model.epochs), model.total_cost)\n",
    "plt.xlabel('Epochs')\n",
    "plt.ylabel('Cost')\n",
    "plt.title('Graphic Loss')\n",
    "plt.show()"
   ]
  },
  {
   "cell_type": "code",
   "execution_count": 11,
   "metadata": {},
   "outputs": [
    {
     "name": "stdout",
     "output_type": "stream",
     "text": [
      "Probability to survive:  41.15617387868228 %\n"
     ]
    }
   ],
   "source": [
    "Pclass = 1; Gender = 1 ;Age = 22\n",
    "\n",
    "predict = model.linear_prediction([Pclass, Gender, Age])\n",
    "predict = model.sigmoid(predict)\n",
    "print('Probability to survive: ', predict[0]*100,'%')"
   ]
  }
 ],
 "metadata": {
  "kernelspec": {
   "display_name": "py36",
   "language": "python",
   "name": "python3"
  },
  "language_info": {
   "codemirror_mode": {
    "name": "ipython",
    "version": 3
   },
   "file_extension": ".py",
   "mimetype": "text/x-python",
   "name": "python",
   "nbconvert_exporter": "python",
   "pygments_lexer": "ipython3",
   "version": "3.10.4"
  },
  "orig_nbformat": 4
 },
 "nbformat": 4,
 "nbformat_minor": 2
}
